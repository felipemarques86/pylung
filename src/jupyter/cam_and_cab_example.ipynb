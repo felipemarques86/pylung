{
 "cells": [
  {
   "cell_type": "code",
   "execution_count": 13,
   "metadata": {
    "pycharm": {
     "is_executing": true
    }
   },
   "outputs": [
    {
     "data": {
      "image/png": "[encoded data removed]",
      "text/plain": [
       "<PIL.Image.Image image mode=RGB size=224x224>"
      ]
     },
     "metadata": {},
     "output_type": "display_data"
    }
   ],
   "source": [
    "import numpy as np\n",
    "import cv2\n",
    "from keras.applications.vgg16 import VGG16, preprocess_input\n",
    "from keras.preprocessing import image\n",
    "import keras.backend as K\n",
    "import tensorflow as tf\n",
    "from IPython.display import Image, display\n",
    "\n",
    "tf.compat.v1.disable_eager_execution()\n",
    "\n",
    "# Load the VGG16 model\n",
    "model = VGG16(weights='imagenet')\n",
    "\n",
    "# Load the input image\n",
    "img_path = 'dog.jpg'\n",
    "img = image.load_img(img_path, target_size=(224, 224))\n",
    "x = image.img_to_array(img)\n",
    "x = np.expand_dims(x, axis=0)\n",
    "x = preprocess_input(x)\n",
    "\n",
    "# Get the output of the last convolutional layer\n",
    "last_conv_layer = model.get_layer('block5_conv3')\n",
    "\n",
    "# Compute the gradient of the output with respect to the feature maps of the last convolutional layer\n",
    "grads = K.gradients(model.output[:, 386], last_conv_layer.output)[0]\n",
    "\n",
    "# Compute the mean of the gradient over each feature map\n",
    "pooled_grads = K.mean(grads, axis=(0, 1, 2))\n",
    "\n",
    "# Define a function that returns the CAM given an input image\n",
    "iterate = K.function([model.input], [pooled_grads, last_conv_layer.output[0]])\n",
    "pooled_grads_value, conv_layer_output_value = iterate([x])\n",
    "\n",
    "# Compute the CAM by weighting the feature maps by the corresponding gradient importance weights\n",
    "for i in range(512):\n",
    "    conv_layer_output_value[:, :, i] *= pooled_grads_value[i]\n",
    "\n",
    "cam = np.sum(conv_layer_output_value, axis=-1)\n",
    "\n",
    "img.save('intermediate.jpg')\n",
    "img = np.array(img)\n",
    "\n",
    "\n",
    "# Resize the CAM to the size of the input image\n",
    "cam = cv2.resize(cam, (img.shape[1], img.shape[0]))\n",
    "\n",
    "# Apply a ReLU activation function to the CAM to obtain only positive values\n",
    "cam = np.maximum(cam, 0)\n",
    "\n",
    "# Normalize the CAM to the range [0, 1]\n",
    "cam = cam / cam.max()\n",
    "\n",
    "# Convert the input image to a numpy array\n",
    "img_array = image.img_to_array(img)\n",
    "\n",
    "# Multiply each pixel in the input image by its corresponding CAM value\n",
    "for i in range(3):\n",
    "    img_array[:,:,i] *= cam\n",
    "\n",
    "# Convert the numpy array back to an image\n",
    "blended_img = image.array_to_img(img_array)\n",
    "\n",
    "# Save the blended image\n",
    "blended_img.save('example_blended_image.jpg')\n",
    "\n",
    "display(blended_img)"
   ]
  },
  {
   "cell_type": "code",
   "execution_count": null,
   "metadata": {},
   "outputs": [],
   "source": []
  }
 ],
 "metadata": {
  "kernelspec": {
   "display_name": "Python 3 (ipykernel)",
   "language": "python",
   "name": "python3"
  },
  "language_info": {
   "codemirror_mode": {
    "name": "ipython",
    "version": 3
   },
   "file_extension": ".py",
   "mimetype": "text/x-python",
   "name": "python",
   "nbconvert_exporter": "python",
   "pygments_lexer": "ipython3",
   "version": "3.9.13"
  }
 },
 "nbformat": 4,
 "nbformat_minor": 1
}
